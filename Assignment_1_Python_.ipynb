{
  "nbformat": 4,
  "nbformat_minor": 0,
  "metadata": {
    "colab": {
      "provenance": []
    },
    "kernelspec": {
      "name": "python3",
      "display_name": "Python 3"
    },
    "language_info": {
      "name": "python"
    }
  },
  "cells": [
    {
      "cell_type": "markdown",
      "source": [
        "Theory Questions Assignment 1"
      ],
      "metadata": {
        "id": "pmvGm8m9RGAf"
      }
    },
    {
      "cell_type": "markdown",
      "source": [
        " Q1. What is Python, and why is it popular ?\n",
        "\n",
        "\n",
        " Answer:- Python is a high-level, interpreted programming language known\n",
        "          for its readability and versatility.\n",
        "          it's popular because of its simple syntax, large community, extensive libraries, and wide applicability,\n",
        "          including web development, data analysis, AI, and more."
      ],
      "metadata": {
        "id": "EVNnpXRgRHiD"
      }
    },
    {
      "cell_type": "markdown",
      "source": [
        " Q2. What is an interpreter in Python ?\n",
        "\n",
        "\n",
        " Answer:- An interpreter is a program that executes Python code       \n",
        "          line-by-line, allowing you to run scripts interactively.\n",
        "          This makes it easier to debug and develop code quickly."
      ],
      "metadata": {
        "id": "Cg181AadRoqa"
      }
    },
    {
      "cell_type": "markdown",
      "source": [
        "Q3. What are pre-defined keywords in Python ?\n",
        "\n",
        "\n",
        "Answer:- Pre-defined keywords in Python are reserved words that have a specific meaning and purpose within the\n",
        "         language. Examples include if, else, for, while, True, and False."
      ],
      "metadata": {
        "id": "WI4Hc6aNRxmV"
      }
    },
    {
      "cell_type": "markdown",
      "source": [],
      "metadata": {
        "id": "uW5b2Y29QAC6"
      }
    },
    {
      "cell_type": "markdown",
      "source": [
        "Q4. Can keywords be used as variable names ?\n",
        "\n",
        "\n",
        "Answer:- No, keywords cannot be used as variable names as they are reserved by Python for specific functionalities."
      ],
      "metadata": {
        "id": "sY09vyKEWwNK"
      }
    },
    {
      "cell_type": "markdown",
      "source": [
        "Q5. What is mutability in Python ?\n",
        "\n",
        "\n",
        "Answer:- Mutability refers to an object’s ability to change its state or\n",
        "         content after creation.For example, lists are mutable, while tuples are immutable."
      ],
      "metadata": {
        "id": "BL5-J9aCW1aZ"
      }
    },
    {
      "cell_type": "markdown",
      "source": [
        "Q6. Why are lists mutable, but tuples are immutable ?\n",
        "\n",
        "\n",
        "Answer:- Lists are designed to be flexible, so they allow modification of elements.\n",
        "          Tuples, on the other hand, are designed as fixed collections, making them faster and safer in scenarios where data should not change."
      ],
      "metadata": {
        "id": "7juwyg2OW7Zf"
      }
    },
    {
      "cell_type": "markdown",
      "source": [
        " Q7. What is the difference between “==” and “is” operators in Python ?\n",
        "\n",
        "\n",
        "Answer:- “==” checks if the values of two objects are equal, while “is” checks if two variables point to the same\n",
        "           memory location."
      ],
      "metadata": {
        "id": "OpzlVpZFXCCr"
      }
    },
    {
      "cell_type": "markdown",
      "source": [
        "Q8. What are logical operators in Python ?\n",
        "\n",
        "Answer:- Logical operators are used to combine multiple conditions and include and, or, and not."
      ],
      "metadata": {
        "id": "IJJx8vxNXHfF"
      }
    },
    {
      "cell_type": "markdown",
      "source": [
        "Q9. What is type casting in Python ?\n",
        "\n",
        "Answer:- Type casting is the conversion of one data type to another, such as converting an integer to a string or a\n",
        "          float."
      ],
      "metadata": {
        "id": "Tmn8dsniXLBN"
      }
    },
    {
      "cell_type": "markdown",
      "source": [
        "Q10. What is the difference between implicit and explicit type casting ?\n",
        "\n",
        "Answer:- Implicit casting is done automatically by Python, while explicit casting requires the use of functions like int(),\n",
        "          float(), or str() to convert between types."
      ],
      "metadata": {
        "id": "0-pFRRaDXPgc"
      }
    },
    {
      "cell_type": "markdown",
      "source": [
        " Q11. What is the purpose of conditional statements in Python ?\n",
        "\n",
        "Answer:- Conditional statements, such as if, elif, and else, allow Python to execute certain blocks of code based on\n",
        "          whether a condition is True or False."
      ],
      "metadata": {
        "id": "CDS72MA1XTTv"
      }
    },
    {
      "cell_type": "markdown",
      "source": [
        "Q12. How does the elif statement work ?\n",
        "\n",
        "Answer:- The elif statement provides additional conditions after an initial if. It is only executed if the previous if or elif\n",
        "          condition was False."
      ],
      "metadata": {
        "id": "if5C6ey0XXIm"
      }
    },
    {
      "cell_type": "markdown",
      "source": [
        "Q13. What is the difference between for and while loops ?\n",
        "\n",
        "Answer:- A for loop is typically used when you know the number of iterations in advance, while a while loop is used\n",
        "          when the number of iterations depends on a condition."
      ],
      "metadata": {
        "id": "xEe6r9IyXbzD"
      }
    },
    {
      "cell_type": "markdown",
      "source": [
        "Q14. Describe a scenario where a while loop is more suitable than a for loop ?\n",
        "\n",
        "Answer:- A while loop is ideal when you want to continue looping until a specific condition is met, like waiting for user\n",
        "          input or monitoring a process until it completes."
      ],
      "metadata": {
        "id": "G1jR-y8CXfje"
      }
    },
    {
      "cell_type": "markdown",
      "source": [
        "Practical Questions Assignment 1"
      ],
      "metadata": {
        "id": "AcJZnN8HXsPU"
      }
    },
    {
      "cell_type": "markdown",
      "source": [
        " Q1.Write a Python program to print \"Hello, World! ?"
      ],
      "metadata": {
        "id": "0ivVZSZMXvFd"
      }
    },
    {
      "cell_type": "code",
      "source": [
        "print(\"Hello, World!\")"
      ],
      "metadata": {
        "id": "pOzQ1notXxPX"
      },
      "execution_count": null,
      "outputs": []
    },
    {
      "cell_type": "markdown",
      "source": [
        "Q2. Write a Python program that displays your name and age ?"
      ],
      "metadata": {
        "id": "c7njYpwFX0jG"
      }
    },
    {
      "cell_type": "code",
      "source": [
        "def display_name_and_age(name, age):\n",
        "    print(f\"My name is {name} and I am {age} years old.\")\n",
        "name = \"Bhoomika\"\n",
        "age = 18\n",
        "\n",
        "display_name_and_age(name, age)"
      ],
      "metadata": {
        "collapsed": true,
        "id": "ZXs1woI3X4GE"
      },
      "execution_count": null,
      "outputs": []
    },
    {
      "cell_type": "markdown",
      "source": [
        "Q3. Write code to print all the pre-defined keywords in Python using the keyword library ?"
      ],
      "metadata": {
        "id": "lLrBblwgYIx7"
      }
    },
    {
      "cell_type": "code",
      "source": [
        "import keyword\n",
        "\n",
        "print(\"Python keywords are:\")\n",
        "print(keyword.kwlist)"
      ],
      "metadata": {
        "id": "A9u15EimYNI5"
      },
      "execution_count": null,
      "outputs": []
    },
    {
      "cell_type": "markdown",
      "source": [
        "Q4. Write a program that checks if a given word is a Python keyword ?"
      ],
      "metadata": {
        "id": "nyySbH_QYUAo"
      }
    },
    {
      "cell_type": "code",
      "source": [
        "import keyword\n",
        "\n",
        "def check_keyword(word):\n",
        "    if keyword.iskeyword(word):\n",
        "        print(f\"'{word}' is a Python keyword.\")\n",
        "    else:\n",
        "        print(f\"'{word}' is not a Python keyword.\")\n",
        "\n",
        "word = input(\"Enter a word to check if it's a Python keyword: \")\n",
        "\n",
        "check_keyword(word)"
      ],
      "metadata": {
        "id": "QCFRCRnQkcOF"
      },
      "execution_count": null,
      "outputs": []
    },
    {
      "cell_type": "markdown",
      "source": [
        "Q5 Create a list and tuple in Python, and demonstrate how attempting to change an element works differently for each ?"
      ],
      "metadata": {
        "id": "b_mF_2N9YfiT"
      }
    },
    {
      "cell_type": "code",
      "source": [
        "my_list = [1, 2, 3]\n",
        "my_tuple = (1, 2, 3)\n",
        "\n",
        "print(\"Original list:\", my_list)\n",
        "my_list[0] = 10\n",
        "print(\"Modified list:\", my_list)\n",
        "\n",
        "print(\"\\nOriginal tuple:\", my_tuple)\n",
        "try:\n",
        "    my_tuple[0] = 10\n",
        "except TypeError as e:\n",
        "    print(\"Error when modifying tuple:\", e)"
      ],
      "metadata": {
        "id": "K-3sovi2eUZX"
      },
      "execution_count": null,
      "outputs": []
    },
    {
      "cell_type": "markdown",
      "source": [
        "Q6. Write a function to demonstrate the behavior of mutable and immutable arguments ?"
      ],
      "metadata": {
        "id": "mippi7HlYxqi"
      }
    },
    {
      "cell_type": "code",
      "source": [
        "def demonstrate_behavior(immutable_arg, mutable_arg):\n",
        "    print(\"\\nInside the function:\")\n",
        "\n",
        "    immutable_arg += 10\n",
        "    print(\"Modified immutable_arg inside function:\", immutable_arg)\n",
        "\n",
        "\n",
        "    mutable_arg.append(100)\n",
        "    print(\"Modified mutable_arg inside function:\", mutable_arg)\n",
        "\n",
        "\n",
        "immutable_var = 42\n",
        "\n",
        "mutable_var = [1, 2, 3]\n",
        "\n",
        "print(\"Before function call:\")\n",
        "print(\"Immutable variable:\", immutable_var)\n",
        "print(\"Mutable variable:\", mutable_var)\n",
        "\n",
        "\n",
        "demonstrate_behavior(immutable_var, mutable_var)\n",
        "\n",
        "print(\"\\nAfter function call:\")\n",
        "print(\"Immutable variable:\", immutable_var)\n",
        "print(\"Mutable variable:\", mutable_var)"
      ],
      "metadata": {
        "id": "q_bb3qI2Y15s"
      },
      "execution_count": null,
      "outputs": []
    },
    {
      "cell_type": "markdown",
      "source": [
        "Q7. Write a function to demonstrate the behavior of mutable and immutable arguments ?"
      ],
      "metadata": {
        "id": "BHCX-5a7Y_0U"
      }
    },
    {
      "cell_type": "code",
      "source": [
        "\n",
        "def demonstrate_arguments(immutable_arg, mutable_arg):\n",
        "    print(\"\\nInside the function:\")\n",
        "\n",
        "\n",
        "    immutable_arg += 1\n",
        "    print(f\"Immutable argument inside function: {immutable_arg} (new local value)\")\n",
        "\n",
        "\n",
        "    mutable_arg.append(\"new element\")\n",
        "    print(f\"Mutable argument inside function: {mutable_arg}\")\n",
        "\n",
        "\n",
        "immutable_var = 10\n",
        "\n",
        "\n",
        "mutable_var = [\"original element\"]\n",
        "\n",
        "print(\"Before function call:\")\n",
        "print(f\"Immutable argument: {immutable_var}\")\n",
        "print(f\"Mutable argument: {mutable_var}\")\n",
        "\n",
        "\n",
        "demonstrate_arguments(immutable_var, mutable_var)\n",
        "\n",
        "print(\"\\nAfter function call:\")\n",
        "print(f\"Immutable argument: {immutable_var} (unchanged)\")\n",
        "print(f\"Mutable argument: {mutable_var} (changed)\")"
      ],
      "metadata": {
        "id": "Dkum86aNZDEJ"
      },
      "execution_count": null,
      "outputs": []
    },
    {
      "cell_type": "markdown",
      "source": [
        "Q8. Write a program to demonstrate the use of logical operators ?"
      ],
      "metadata": {
        "id": "oSu_f9HYZKgn"
      }
    },
    {
      "cell_type": "code",
      "source": [
        "a = int(input(\"Enter first number (a): \"))\n",
        "b = int(input(\"Enter second number (b): \"))\n",
        "\n",
        "print(\"\\nLogical AND:\")\n",
        "if a > 0 and b > 0:\n",
        "    print(f\"Both a ({a}) and b ({b}) are positive.\")\n",
        "else:\n",
        "    print(f\"At least one of a ({a}) or b ({b}) is not positive.\")\n",
        "\n",
        "print(\"\\nLogical OR:\")\n",
        "if a > 0 or b > 0:\n",
        "    print(f\"At least one of a ({a}) or b ({b}) is positive.\")\n",
        "else:\n",
        "    print(f\"Neither a ({a}) nor b ({b}) is positive.\")\n",
        "\n",
        "print(\"\\nLogical NOT:\")\n",
        "if not (a > 0):\n",
        "    print(f\"a ({a}) is not positive.\")\n",
        "else:\n",
        "    print(f\"a ({a}) is positive.\")"
      ],
      "metadata": {
        "id": "oNOAU7ukZNPw"
      },
      "execution_count": null,
      "outputs": []
    },
    {
      "cell_type": "markdown",
      "source": [
        "Q9.Write a Python program to convert user input from string to integer, float, and boolean types ?"
      ],
      "metadata": {
        "id": "jGzveeMAZSCC"
      }
    },
    {
      "cell_type": "code",
      "source": [
        "user_input = input(\"Enter a value: \")\n",
        "\n",
        "try:\n",
        "    integer_value = int(user_input)\n",
        "    print(f\"Converted to integer: {integer_value}\")\n",
        "except ValueError:\n",
        "    print(\"Invalid input for integer conversion.\")\n",
        "\n",
        "try:\n",
        "    float_value = float(user_input)\n",
        "    print(f\"Converted to float: {float_value}\")\n",
        "except ValueError:\n",
        "    print(\"Invalid input for float conversion.\")\n",
        "\n",
        "boolean_value = bool(user_input)\n",
        "print(f\"Converted to Boolean: {boolean_value}\")"
      ],
      "metadata": {
        "id": "QXby3FkwZj7t"
      },
      "execution_count": null,
      "outputs": []
    },
    {
      "cell_type": "markdown",
      "source": [
        "Q10.  Write code to demonstrate type casting with list elements ?"
      ],
      "metadata": {
        "id": "QbnvnTzYZoue"
      }
    },
    {
      "cell_type": "code",
      "source": [
        "original_list = [\"10\", \"20.5\", \"True\", \"30\"]\n",
        "\n",
        "int_list = [int(x) if x.isdigit() else 0 for x in original_list]\n",
        "float_list = [float(x) if x.replace('.', '', 1).isdigit() else 0.0 for x in original_list]\n",
        "bool_list = [x.lower() == 'true' for x in original_list]\n",
        "\n",
        "print(\"Original List:\", original_list)\n",
        "print(\"List after type casting to integers:\", int_list)\n",
        "print(\"List after type casting to floats:\", float_list)\n",
        "print(\"List after type casting to booleans:\", bool_list)"
      ],
      "metadata": {
        "id": "-hhhanV-Zswl"
      },
      "execution_count": null,
      "outputs": []
    },
    {
      "cell_type": "markdown",
      "source": [
        "Q11. Write a program that checks if a number is positive, negative, or zero ?"
      ],
      "metadata": {
        "id": "1KGjSLvfZwPW"
      }
    },
    {
      "cell_type": "code",
      "source": [
        "num = float(input(\"Enter a number: \"))\n",
        "\n",
        "if num > 0:\n",
        "    print(f\"{num} is a positive number.\")\n",
        "elif num < 0:\n",
        "    print(f\"{num} is a negative number.\")\n",
        "else:\n",
        "    print(f\"{num} is zero.\")"
      ],
      "metadata": {
        "id": "wbCrLP0vZyxF"
      },
      "execution_count": null,
      "outputs": []
    },
    {
      "cell_type": "markdown",
      "source": [
        "Q12. Write a for loop to print numbers from 1 to 10 ?"
      ],
      "metadata": {
        "id": "0bvdwiE1Z3wL"
      }
    },
    {
      "cell_type": "code",
      "source": [
        "for i in range(1, 11):\n",
        "              print(i)"
      ],
      "metadata": {
        "id": "7PnGq5XgZ6ST"
      },
      "execution_count": null,
      "outputs": []
    },
    {
      "cell_type": "markdown",
      "source": [
        "Q13. Write a Python program to find the sum of all even numbers between 1 and 50 ?"
      ],
      "metadata": {
        "id": "5rOFrJKOZ-pe"
      }
    },
    {
      "cell_type": "code",
      "source": [
        "even_sum = 0\n",
        "\n",
        "for num in range(1, 51):\n",
        "    if num % 2 == 0:\n",
        "        even_sum += num\n",
        "\n",
        "print(f\"The sum of all even numbers between 1 and 50 is: {even_sum}\")"
      ],
      "metadata": {
        "id": "1dZxzRtAaBmE"
      },
      "execution_count": null,
      "outputs": []
    },
    {
      "cell_type": "markdown",
      "source": [
        "Q14. Write a program to reverse a string using a while loop ?"
      ],
      "metadata": {
        "id": "1x08APBqaGY7"
      }
    },
    {
      "cell_type": "code",
      "source": [
        "input_string = input(\"Enter a string: \")\n",
        "\n",
        "reversed_string = \"\"\n",
        "index = len(input_string) - 1\n",
        "\n",
        "while index >= 0:\n",
        "    reversed_string += input_string[index]\n",
        "    index -= 1\n",
        "\n",
        "print(\"Reversed string:\", reversed_string)"
      ],
      "metadata": {
        "id": "zyNgKwHlaJIA"
      },
      "execution_count": null,
      "outputs": []
    },
    {
      "cell_type": "markdown",
      "source": [
        "Q15. Write a Python program to calculate the factorial of a number provided by the user using a while loop ?"
      ],
      "metadata": {
        "id": "WNiKI9chaO1G"
      }
    },
    {
      "cell_type": "code",
      "source": [
        "num = int(input(\"Enter a number to calculate its factorial: \"))\n",
        "\n",
        "factorial = 1\n",
        "i = 1\n",
        "\n",
        "if num < 0:\n",
        "    print(\"Factorial does not exist for negative numbers.\")\n",
        "else:\n",
        "\n",
        "    while i <= num:\n",
        "        factorial *= i\n",
        "        i += 1\n",
        "\n",
        "    print(f\"The factorial of {num} is: {factorial}\")\n"
      ],
      "metadata": {
        "id": "Vgva93LMaRvL"
      },
      "execution_count": null,
      "outputs": []
    },
    {
      "cell_type": "markdown",
      "source": [
        "                    ** THE END **"
      ],
      "metadata": {
        "id": "EaYqxFWkaZmH"
      }
    }
  ]
}